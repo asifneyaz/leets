{
 "cells": [],
 "metadata": {
  "interpreter": {
   "hash": "548bc383b10c2429042f05627d89061c62faf4070b8a53e6673373ab2d1a9ea2"
  },
  "kernelspec": {
   "display_name": "Python 3.8.11 64-bit ('myanacondaenv': conda)",
   "name": "python3"
  },
  "language_info": {
   "codemirror_mode": {
    "name": "ipython",
    "version": 3
   },
   "file_extension": ".py",
   "mimetype": "text/x-python",
   "name": "python",
   "nbconvert_exporter": "python",
   "pygments_lexer": "ipython3",
   "version": "3.8.11"
  },
  "orig_nbformat": 4
 },
 "nbformat": 4,
 "nbformat_minor": 2
}
